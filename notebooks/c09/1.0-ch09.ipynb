{
 "cells": [
  {
   "cell_type": "markdown",
   "metadata": {},
   "source": [
    "# About\n",
    "\n",
    "Chapter 9. Up and Running with TensorFlow"
   ]
  },
  {
   "cell_type": "markdown",
   "metadata": {},
   "source": [
    "## First Graph"
   ]
  },
  {
   "cell_type": "code",
   "execution_count": 1,
   "metadata": {},
   "outputs": [],
   "source": [
    "import tensorflow as tf"
   ]
  },
  {
   "cell_type": "code",
   "execution_count": 2,
   "metadata": {},
   "outputs": [],
   "source": [
    "# resets the default graph\n",
    "tf.reset_default_graph()"
   ]
  },
  {
   "cell_type": "code",
   "execution_count": 9,
   "metadata": {},
   "outputs": [
    {
     "name": "stdout",
     "output_type": "stream",
     "text": [
      "42\n"
     ]
    }
   ],
   "source": [
    "def g01():\n",
    "    # creates the graph\n",
    "    x = tf.Variable(3, name = \"x\")\n",
    "    y = tf.Variable(4, name = \"y\")\n",
    "    f = x * x * y + y + 2\n",
    "\n",
    "    # creates session and executes graph\n",
    "    sess = tf.Session()\n",
    "    sess.run(x.initializer)\n",
    "    sess.run(y.initializer)\n",
    "    result = sess.run(f)\n",
    "    print(result)\n",
    "    sess.close()\n",
    "\n",
    "g01()"
   ]
  },
  {
   "cell_type": "code",
   "execution_count": 10,
   "metadata": {},
   "outputs": [
    {
     "name": "stdout",
     "output_type": "stream",
     "text": [
      "42\n"
     ]
    }
   ],
   "source": [
    "def g02():\n",
    "    # creates the graph\n",
    "    x = tf.Variable(3, name = \"x\")\n",
    "    y = tf.Variable(4, name = \"y\")\n",
    "    f = x * x * y + y + 2\n",
    "\n",
    "    # creates session and executes graph, using with syntax\n",
    "    with tf.Session() as sess:\n",
    "        x.initializer.run()\n",
    "        y.initializer.run()\n",
    "        result = f.eval()\n",
    "        print(result)\n",
    "    \n",
    "g02()"
   ]
  },
  {
   "cell_type": "code",
   "execution_count": 15,
   "metadata": {},
   "outputs": [
    {
     "name": "stdout",
     "output_type": "stream",
     "text": [
      "42\n"
     ]
    }
   ],
   "source": [
    "def g03():\n",
    "    # creates the graph\n",
    "    x = tf.Variable(3, name = \"x\")\n",
    "    y = tf.Variable(4, name = \"y\")\n",
    "    f = x * x * y + y + 2\n",
    "    \n",
    "    # using global initializer, instead of calling initize for each variable\n",
    "    init = tf.global_variables_initializer() # sets up an initializer node\n",
    "    with tf.Session() as sess:\n",
    "        init.run() #actually initializes all the variables\n",
    "        result = f.eval()\n",
    "        print(result)\n",
    "\n",
    "g03()"
   ]
  },
  {
   "cell_type": "markdown",
   "metadata": {},
   "source": [
    "## Managing Graphs"
   ]
  },
  {
   "cell_type": "code",
   "execution_count": 19,
   "metadata": {},
   "outputs": [
    {
     "name": "stdout",
     "output_type": "stream",
     "text": [
      "True\n"
     ]
    }
   ],
   "source": [
    "def g04():\n",
    "    # any node created is automatically added to default graph\n",
    "    x1 = tf.Variable(1)\n",
    "    t1 = x1.graph is tf.get_default_graph()\n",
    "    print(t1)\n",
    "    \n",
    "g04()"
   ]
  },
  {
   "cell_type": "code",
   "execution_count": 21,
   "metadata": {},
   "outputs": [
    {
     "name": "stdout",
     "output_type": "stream",
     "text": [
      "True\n",
      "False\n"
     ]
    }
   ],
   "source": [
    "def g05():\n",
    "    # can manage multiple independent graphs\n",
    "    graph = tf.Graph()\n",
    "    with graph.as_default():\n",
    "        x2 = tf.Variable(2)\n",
    "        \n",
    "    t1 = x2.graph is graph\n",
    "    print(t1)\n",
    "    \n",
    "    t2 = x2.graph is tf.get_default_graph()\n",
    "    print(t2)\n",
    "    \n",
    "g05()"
   ]
  },
  {
   "cell_type": "markdown",
   "metadata": {},
   "source": [
    "## Lifecycle of a Node Value"
   ]
  },
  {
   "cell_type": "code",
   "execution_count": 22,
   "metadata": {},
   "outputs": [
    {
     "name": "stdout",
     "output_type": "stream",
     "text": [
      "10\n",
      "15\n"
     ]
    }
   ],
   "source": [
    "def g06():\n",
    "    w = tf.constant(3)\n",
    "    x = w + 2\n",
    "    y = x + 5\n",
    "    z = x * 3\n",
    "    \n",
    "    # this code calculates x twice\n",
    "    with tf.Session() as sess:\n",
    "        print(y.eval())\n",
    "        print(z.eval())\n",
    "    \n",
    "g06()"
   ]
  },
  {
   "cell_type": "code",
   "execution_count": 23,
   "metadata": {},
   "outputs": [
    {
     "name": "stdout",
     "output_type": "stream",
     "text": [
      "10\n",
      "15\n"
     ]
    }
   ],
   "source": [
    "def g07():\n",
    "    w = tf.constant(3)\n",
    "    x = w + 2\n",
    "    y = x + 5\n",
    "    z = x * 3\n",
    "    \n",
    "    # this code calculates x once\n",
    "    with tf.Session() as sess:\n",
    "        y_val, z_val = sess.run([y, z])\n",
    "        print(y.eval())\n",
    "        print(z.eval())\n",
    "    \n",
    "g07()"
   ]
  },
  {
   "cell_type": "markdown",
   "metadata": {},
   "source": [
    "## Linear Regression with TensorFlow"
   ]
  },
  {
   "cell_type": "code",
   "execution_count": 3,
   "metadata": {},
   "outputs": [],
   "source": [
    "import numpy as np\n",
    "from sklearn.datasets import fetch_california_housing"
   ]
  },
  {
   "cell_type": "markdown",
   "metadata": {},
   "source": [
    "we're essentially calculating the Normal Equation from chap 4\n",
    "\n",
    "theta_hat = (X^T * X) ^ -1 * X^T * y"
   ]
  },
  {
   "cell_type": "code",
   "execution_count": 6,
   "metadata": {},
   "outputs": [
    {
     "name": "stdout",
     "output_type": "stream",
     "text": [
      "========\n",
      "(20640, 8) 20640 8\n",
      "[[ 8.32520000e+00  4.10000000e+01  6.98412698e+00  1.02380952e+00\n",
      "   3.22000000e+02  2.55555556e+00  3.78800000e+01 -1.22230000e+02]\n",
      " [ 8.30140000e+00  2.10000000e+01  6.23813708e+00  9.71880492e-01\n",
      "   2.40100000e+03  2.10984183e+00  3.78600000e+01 -1.22220000e+02]\n",
      " [ 7.25740000e+00  5.20000000e+01  8.28813559e+00  1.07344633e+00\n",
      "   4.96000000e+02  2.80225989e+00  3.78500000e+01 -1.22240000e+02]\n",
      " [ 5.64310000e+00  5.20000000e+01  5.81735160e+00  1.07305936e+00\n",
      "   5.58000000e+02  2.54794521e+00  3.78500000e+01 -1.22250000e+02]\n",
      " [ 3.84620000e+00  5.20000000e+01  6.28185328e+00  1.08108108e+00\n",
      "   5.65000000e+02  2.18146718e+00  3.78500000e+01 -1.22250000e+02]]\n",
      "========\n",
      "(20640, 9)\n",
      "[[ 1.00000000e+00  8.32520000e+00  4.10000000e+01  6.98412698e+00\n",
      "   1.02380952e+00  3.22000000e+02  2.55555556e+00  3.78800000e+01\n",
      "  -1.22230000e+02]\n",
      " [ 1.00000000e+00  8.30140000e+00  2.10000000e+01  6.23813708e+00\n",
      "   9.71880492e-01  2.40100000e+03  2.10984183e+00  3.78600000e+01\n",
      "  -1.22220000e+02]\n",
      " [ 1.00000000e+00  7.25740000e+00  5.20000000e+01  8.28813559e+00\n",
      "   1.07344633e+00  4.96000000e+02  2.80225989e+00  3.78500000e+01\n",
      "  -1.22240000e+02]\n",
      " [ 1.00000000e+00  5.64310000e+00  5.20000000e+01  5.81735160e+00\n",
      "   1.07305936e+00  5.58000000e+02  2.54794521e+00  3.78500000e+01\n",
      "  -1.22250000e+02]\n",
      " [ 1.00000000e+00  3.84620000e+00  5.20000000e+01  6.28185328e+00\n",
      "   1.08108108e+00  5.65000000e+02  2.18146718e+00  3.78500000e+01\n",
      "  -1.22250000e+02]]\n",
      "========\n",
      "(20640,)\n",
      "[4.526 3.585 3.521 3.413 3.422 2.697 2.992 2.414 2.267 2.611]\n",
      "(20640, 1)\n",
      "[[4.526]\n",
      " [3.585]\n",
      " [3.521]\n",
      " [3.413]\n",
      " [3.422]\n",
      " [2.697]\n",
      " [2.992]\n",
      " [2.414]\n",
      " [2.267]\n",
      " [2.611]]\n",
      "========\n",
      "(20640, 9)\n",
      "Tensor(\"strided_slice_2:0\", shape=(3, 9), dtype=float32)\n",
      "(9, 20640)\n",
      "Tensor(\"strided_slice_3:0\", shape=(3, 20640), dtype=float32)\n",
      "========\n",
      "theta_value\n",
      "[[-3.7185181e+01]\n",
      " [ 4.3633747e-01]\n",
      " [ 9.3952334e-03]\n",
      " [-1.0711310e-01]\n",
      " [ 6.4479220e-01]\n",
      " [-4.0338000e-06]\n",
      " [-3.7813708e-03]\n",
      " [-4.2348403e-01]\n",
      " [-4.3721911e-01]]\n"
     ]
    }
   ],
   "source": [
    "def g08():\n",
    "    print(\"========\")\n",
    "    housing = fetch_california_housing()\n",
    "    m, n = housing.data.shape\n",
    "    print(housing.data.shape, m, n)\n",
    "    print(housing.data[0:5])\n",
    "    \n",
    "    print(\"========\")\n",
    "    housing_data_plus_bias = np.c_[np.ones((m, 1)), housing.data]\n",
    "    print(housing_data_plus_bias.shape)\n",
    "    print(housing_data_plus_bias[0:5])\n",
    "    \n",
    "    print(\"========\")\n",
    "    X = tf.constant(housing_data_plus_bias, dtype = tf.float32, name = \"X\")\n",
    "    y = tf.constant(housing.target.reshape(-1, 1), dtype = tf.float32, name = \"y\")\n",
    "    print(housing.target.shape)\n",
    "    print(housing.target[0:10])\n",
    "    print(housing.target.reshape(-1, 1).shape)\n",
    "    print(housing.target.reshape(-1, 1)[0:10])\n",
    "    \n",
    "    print(\"========\")\n",
    "    XT = tf.transpose(X)\n",
    "    print(X.shape)\n",
    "    print(X[0:3])\n",
    "    print(XT.shape)\n",
    "    print(XT[0:3])\n",
    "    \n",
    "    print(\"========\")\n",
    "    theta = tf.matmul(\n",
    "        tf.matmul(\n",
    "            tf.matrix_inverse(\n",
    "                tf.matmul(\n",
    "                    XT\n",
    "                    , X\n",
    "                )\n",
    "            )\n",
    "            , XT\n",
    "        )\n",
    "        , y\n",
    "    )\n",
    "    \n",
    "    with tf.Session() as sess:\n",
    "        theta_value = theta.eval()\n",
    "    \n",
    "    print(\"theta_value\")\n",
    "    print(theta_value)\n",
    "\n",
    "g08()"
   ]
  },
  {
   "cell_type": "code",
   "execution_count": 9,
   "metadata": {},
   "outputs": [
    {
     "name": "stdout",
     "output_type": "stream",
     "text": [
      "========\n",
      "========\n",
      "========\n",
      "========\n",
      "========\n",
      "[[ 0.00000000e+00  4.36693293e-01  9.43577803e-03 -1.07322041e-01\n",
      "   6.45065694e-01 -3.97638942e-06 -3.78654265e-03 -4.21314378e-01\n",
      "  -4.34513755e-01]]\n"
     ]
    }
   ],
   "source": [
    "from sklearn.linear_model import LinearRegression\n",
    "def g08b():\n",
    "    # sanity check to see if the actual sklearn linear regression classifier does something similar\n",
    "    print(\"========\")\n",
    "    housing = fetch_california_housing()\n",
    "    m, n = housing.data.shape\n",
    "    \n",
    "    print(\"========\")\n",
    "    housing_data_plus_bias = np.c_[np.ones((m, 1)), housing.data]\n",
    "    \n",
    "    print(\"========\")\n",
    "    X = housing_data_plus_bias\n",
    "    y = housing.target.reshape(-1, 1)\n",
    "    \n",
    "    print(\"========\")\n",
    "    reg = LinearRegression().fit(X, y)\n",
    "    \n",
    "    print(\"========\")\n",
    "    theta_values = reg.coef_\n",
    "    print(theta_values)\n",
    "    \n",
    "g08b()\n",
    "# well actually pretty close, except for the bias term"
   ]
  },
  {
   "cell_type": "markdown",
   "metadata": {},
   "source": [
    "## Implementing Gradient Descent"
   ]
  },
  {
   "cell_type": "markdown",
   "metadata": {},
   "source": [
    "### manualy computing the gradients"
   ]
  },
  {
   "cell_type": "code",
   "execution_count": 4,
   "metadata": {},
   "outputs": [],
   "source": [
    "from sklearn.preprocessing import StandardScaler"
   ]
  },
  {
   "cell_type": "code",
   "execution_count": 23,
   "metadata": {},
   "outputs": [
    {
     "name": "stdout",
     "output_type": "stream",
     "text": [
      "Epoch 0 MSE = 9.122907\n",
      "Epoch 100 MSE = 0.8448336\n",
      "Epoch 200 MSE = 0.6622453\n",
      "Epoch 300 MSE = 0.62959146\n",
      "Epoch 400 MSE = 0.6074647\n",
      "Epoch 500 MSE = 0.5904154\n",
      "Epoch 600 MSE = 0.5771039\n",
      "Epoch 700 MSE = 0.5666507\n",
      "Epoch 800 MSE = 0.55840087\n",
      "Epoch 900 MSE = 0.5518588\n",
      "best theta is:\n",
      "[[ 2.0685523 ]\n",
      " [ 0.94581234]\n",
      " [ 0.16511774]\n",
      " [-0.4390792 ]\n",
      " [ 0.42898908]\n",
      " [ 0.01085541]\n",
      " [-0.04572579]\n",
      " [-0.45277286]\n",
      " [-0.43472746]]\n"
     ]
    }
   ],
   "source": [
    "def g09():\n",
    "    # gets the housing data\n",
    "    housing = fetch_california_housing()\n",
    "    m, n = housing.data.shape\n",
    "    \n",
    "    # scales the housing data using sklearn's StandardScaler\n",
    "    scaler = StandardScaler()\n",
    "    scaled_housing_data = scaler.fit_transform(housing.data)\n",
    "    \n",
    "    # adds the bias\n",
    "    scaled_housing_data_plus_bias = np.c_[np.ones((m, 1)), scaled_housing_data]\n",
    "    \n",
    "    n_epochs = 1000\n",
    "    learning_rate = 0.01\n",
    "    \n",
    "    X = tf.constant(scaled_housing_data_plus_bias, dtype = tf.float32, name = \"X\")\n",
    "    y = tf.constant(housing.target.reshape(-1, 1), dtype = tf.float32, name = \"y\")\n",
    "    theta = tf.Variable(tf.random_uniform([n + 1, 1], -1.0, 1.0), name = \"theta\")\n",
    "    y_pred = tf.matmul(X, theta, name = \"predictions\")\n",
    "    error = y_pred - y\n",
    "    \n",
    "    # calculates the MSE, so that we can track the error improvements every iteration of n_epochs\n",
    "    mse = tf.reduce_mean(tf.square(error), name = \"mse\")\n",
    "    \n",
    "    # implements the Batch Gradient Descent step\n",
    "    # theta_next_step = theta - eta * gradient of theta of MSE of theta [???]\n",
    "    gradients = 2/m * tf.matmul(tf.transpose(X), error)\n",
    "    training_op = tf.assign(theta, theta - learning_rate * gradients)\n",
    "    \n",
    "    init = tf.global_variables_initializer()\n",
    "    \n",
    "    with tf.Session() as sess:\n",
    "        sess.run(init)\n",
    "        \n",
    "        # at each tick of n_epoch, runs the training_op node, which implements the Batch Gradient Descent step\n",
    "        # also every 100 ticks, prints out the MSE\n",
    "        for epoch in range(n_epochs):\n",
    "            if epoch % 100 == 0:\n",
    "                print(\"Epoch\", epoch, \"MSE =\", mse.eval())\n",
    "            sess.run(training_op)\n",
    "    \n",
    "        best_theta = theta.eval()\n",
    "        print(\"best theta is:\")\n",
    "        print(best_theta)\n",
    "    \n",
    "g09()"
   ]
  },
  {
   "cell_type": "markdown",
   "metadata": {},
   "source": [
    "### Using Autodiff"
   ]
  },
  {
   "cell_type": "code",
   "execution_count": 8,
   "metadata": {},
   "outputs": [
    {
     "name": "stdout",
     "output_type": "stream",
     "text": [
      "Epoch 0 MSE = 8.983264\n",
      "Epoch 100 MSE = 0.7885715\n",
      "Epoch 200 MSE = 0.6231973\n",
      "Epoch 300 MSE = 0.5940987\n",
      "Epoch 400 MSE = 0.57496816\n",
      "Epoch 500 MSE = 0.56116766\n",
      "Epoch 600 MSE = 0.55116314\n",
      "Epoch 700 MSE = 0.54390293\n",
      "Epoch 800 MSE = 0.5386293\n",
      "Epoch 900 MSE = 0.5347946\n",
      "best theta is:\n",
      "[[ 2.0685523 ]\n",
      " [ 0.8159443 ]\n",
      " [ 0.14849767]\n",
      " [-0.17925768]\n",
      " [ 0.20778206]\n",
      " [ 0.0064953 ]\n",
      " [-0.04155089]\n",
      " [-0.695883  ]\n",
      " [-0.66202307]]\n"
     ]
    }
   ],
   "source": [
    "def g09b():\n",
    "    # gets the housing data\n",
    "    housing = fetch_california_housing()\n",
    "    m, n = housing.data.shape\n",
    "    \n",
    "    # scales the housing data using sklearn's StandardScaler\n",
    "    scaler = StandardScaler()\n",
    "    scaled_housing_data = scaler.fit_transform(housing.data)\n",
    "    \n",
    "    # adds the bias\n",
    "    scaled_housing_data_plus_bias = np.c_[np.ones((m, 1)), scaled_housing_data]\n",
    "    \n",
    "    n_epochs = 1000\n",
    "    learning_rate = 0.01\n",
    "    \n",
    "    X = tf.constant(scaled_housing_data_plus_bias, dtype = tf.float32, name = \"X\")\n",
    "    y = tf.constant(housing.target.reshape(-1, 1), dtype = tf.float32, name = \"y\")\n",
    "    theta = tf.Variable(tf.random_uniform([n + 1, 1], -1.0, 1.0), name = \"theta\")\n",
    "    y_pred = tf.matmul(X, theta, name = \"predictions\")\n",
    "    error = y_pred - y\n",
    "    \n",
    "    # calculates the MSE, so that we can track the error improvements every iteration of n_epochs\n",
    "    mse = tf.reduce_mean(tf.square(error), name = \"mse\")\n",
    "    \n",
    "    # replaced the manual version with tensorflow's autodiff\n",
    "    # ta.gradients() takes an op, here mse, and a list of variables, here theta, and creates a list of ops\n",
    "    gradients = tf.gradients(mse, [theta])[0]\n",
    "    training_op = tf.assign(theta, theta - learning_rate * gradients)\n",
    "    \n",
    "    init = tf.global_variables_initializer()\n",
    "    \n",
    "    with tf.Session() as sess:\n",
    "        sess.run(init)\n",
    "        \n",
    "        # at each tick of n_epoch, runs the training_op node, which implements the Batch Gradient Descent step\n",
    "        # also every 100 ticks, prints out the MSE\n",
    "        for epoch in range(n_epochs):\n",
    "            if epoch % 100 == 0:\n",
    "                print(\"Epoch\", epoch, \"MSE =\", mse.eval())\n",
    "            sess.run(training_op)\n",
    "    \n",
    "        best_theta = theta.eval()\n",
    "        print(\"best theta is:\")\n",
    "        print(best_theta)\n",
    "    \n",
    "g09b()"
   ]
  },
  {
   "cell_type": "markdown",
   "metadata": {},
   "source": [
    "### Using an Optimizer"
   ]
  },
  {
   "cell_type": "code",
   "execution_count": 12,
   "metadata": {},
   "outputs": [
    {
     "name": "stdout",
     "output_type": "stream",
     "text": [
      "Epoch 0 MSE = 9.756287\n",
      "Epoch 100 MSE = 0.52962554\n",
      "Epoch 200 MSE = 0.52499217\n",
      "Epoch 300 MSE = 0.52441007\n",
      "Epoch 400 MSE = 0.5243329\n",
      "Epoch 500 MSE = 0.52432257\n",
      "Epoch 600 MSE = 0.52432114\n",
      "Epoch 700 MSE = 0.524321\n",
      "Epoch 800 MSE = 0.524321\n",
      "Epoch 900 MSE = 0.524321\n",
      "best theta is:\n",
      "[[ 2.068558  ]\n",
      " [ 0.82962847]\n",
      " [ 0.11875335]\n",
      " [-0.26554456]\n",
      " [ 0.30571088]\n",
      " [-0.0045025 ]\n",
      " [-0.03932662]\n",
      " [-0.89986444]\n",
      " [-0.8705207 ]]\n"
     ]
    }
   ],
   "source": [
    "def g09c():\n",
    "    # gets the housing data\n",
    "    housing = fetch_california_housing()\n",
    "    m, n = housing.data.shape\n",
    "    \n",
    "    # scales the housing data using sklearn's StandardScaler\n",
    "    scaler = StandardScaler()\n",
    "    scaled_housing_data = scaler.fit_transform(housing.data)\n",
    "    \n",
    "    # adds the bias\n",
    "    scaled_housing_data_plus_bias = np.c_[np.ones((m, 1)), scaled_housing_data]\n",
    "    \n",
    "    n_epochs = 1000\n",
    "    learning_rate = 0.01\n",
    "    \n",
    "    X = tf.constant(scaled_housing_data_plus_bias, dtype = tf.float32, name = \"X\")\n",
    "    y = tf.constant(housing.target.reshape(-1, 1), dtype = tf.float32, name = \"y\")\n",
    "    theta = tf.Variable(tf.random_uniform([n + 1, 1], -1.0, 1.0), name = \"theta\")\n",
    "    y_pred = tf.matmul(X, theta, name = \"predictions\")\n",
    "    error = y_pred - y\n",
    "    \n",
    "    # calculates the MSE, so that we can track the error improvements every iteration of n_epochs\n",
    "    mse = tf.reduce_mean(tf.square(error), name = \"mse\")\n",
    "    \n",
    "    # replaced the separate gradients and training_op calls with the tf Gradient Descent optimizer\n",
    "    # ... there are also other optimizer options, such as the tf MomentumOptimizer\n",
    "#     optimizer = tf.train.GradientDescentOptimizer(learning_rate = learning_rate)\n",
    "    optimizer = tf.train.MomentumOptimizer(learning_rate = learning_rate, momentum = 0.9)\n",
    "    training_op = optimizer.minimize(mse)\n",
    "    \n",
    "    init = tf.global_variables_initializer()\n",
    "    \n",
    "    with tf.Session() as sess:\n",
    "        sess.run(init)\n",
    "        \n",
    "        # at each tick of n_epoch, runs the training_op node, which implements the Batch Gradient Descent step\n",
    "        # also every 100 ticks, prints out the MSE\n",
    "        for epoch in range(n_epochs):\n",
    "            if epoch % 100 == 0:\n",
    "                print(\"Epoch\", epoch, \"MSE =\", mse.eval())\n",
    "            sess.run(training_op)\n",
    "    \n",
    "        best_theta = theta.eval()\n",
    "        print(\"best theta is:\")\n",
    "        print(best_theta)\n",
    "    \n",
    "g09c()"
   ]
  },
  {
   "cell_type": "markdown",
   "metadata": {},
   "source": [
    "## Feeding Data to the Training Algorithm"
   ]
  },
  {
   "cell_type": "code",
   "execution_count": 17,
   "metadata": {},
   "outputs": [
    {
     "name": "stdout",
     "output_type": "stream",
     "text": [
      "[[6. 7. 8.]]\n",
      "[[ 9. 10. 11.]\n",
      " [12. 13. 14.]]\n",
      "[[15. 16. 17.]\n",
      " [18. 19. 20.]\n",
      " [21. 22. 23.]]\n"
     ]
    }
   ],
   "source": [
    "def g10():\n",
    "    # trying out placeholders \n",
    "    # placeholder nodes don't do any computation, they just output the data\n",
    "    # placeholders can be used to pass data into mini-batches\n",
    "    # i.e. replace X and y with next mini-batch of X and y\n",
    "    A = tf.placeholder(tf.float32, shape = (None, 3))\n",
    "    B = A + 5\n",
    "    with tf.Session() as sess:\n",
    "        # adds 5 to whatever A is, as defined by our feed_dict\n",
    "        # ... 1,2,3 or 4,5,6,7,8,9, etc\n",
    "        B_val_1 = B.eval(feed_dict = {A: [[1, 2, 3]]})\n",
    "        B_val_2 = B.eval(feed_dict = {A: [[4, 5, 6], [7, 8, 9]]})\n",
    "        B_val_3 = B.eval(feed_dict = {A: [[10, 11, 12], [13, 14, 15], [16, 17, 18]]})\n",
    "        print(B_val_1)\n",
    "        print(B_val_2)\n",
    "        print(B_val_3)\n",
    "    \n",
    "g10()"
   ]
  },
  {
   "cell_type": "code",
   "execution_count": null,
   "metadata": {},
   "outputs": [],
   "source": [
    "def g11():\n",
    "    # now we are going to try to use placeholders to do mini-batches\n",
    "    \n",
    "    # gets the housing data\n",
    "    housing = fetch_california_housing()\n",
    "    m, n = housing.data.shape\n",
    "    \n",
    "    # scales the housing data using sklearn's StandardScaler\n",
    "    scaler = StandardScaler()\n",
    "    scaled_housing_data = scaler.fit_transform(housing.data)\n",
    "    \n",
    "    # adds the bias\n",
    "    scaled_housing_data_plus_bias = np.c_[np.ones((m, 1)), scaled_housing_data]\n",
    "    \n",
    "    n_epochs = 1000\n",
    "    learning_rate = 0.01\n",
    "    \n",
    "    # changes the definition of X and y in construction phase to make them placeholder nodes\n",
    "    X = tf.placeholder(tf.float32, shape = (None, n + 1), name = \"X\")\n",
    "    y = tf.placeholder(tf.float32, shape = (None, 1), name = \"y\")\n",
    "    theta = tf.Variable(tf.random_uniform([n + 1, 1], -1.0, 1.0), name = \"theta\")\n",
    "    y_pred = tf.matmul(X, theta, name = \"predictions\")\n",
    "    error = y_pred - y\n",
    "    \n",
    "    # calculates the MSE, so that we can track the error improvements every iteration of n_epochs\n",
    "    mse = tf.reduce_mean(tf.square(error), name = \"mse\")\n",
    "    \n",
    "    # defines the batch size and computes total number of batches\n",
    "    batch_size = 100\n",
    "    n_batches = int(np.ceil(m / batch_size))\n",
    "    \n",
    "    # replaced the separate gradients and training_op calls with the tf Gradient Descent optimizer\n",
    "    # ... there are also other optimizer options, such as the tf MomentumOptimizer\n",
    "#     optimizer = tf.train.GradientDescentOptimizer(learning_rate = learning_rate)\n",
    "    optimizer = tf.train.MomentumOptimizer(learning_rate = learning_rate, momentum = 0.9)\n",
    "    training_op = optimizer.minimize(mse)\n",
    "    \n",
    "    # fetches mini-batches one by one\n",
    "    def fetch_batch(epoch, batch_index, batch_size):\n",
    "        # mimics load data from disk\n",
    "#         X_batch = tf.constant(scaled_housing_data_plus_bias, dtype = tf.float32, name = \"X\")\n",
    "#         y_batch = tf.constant(housing.target.reshape(-1, 1), dtype = tf.float32, name = \"y\")\n",
    "        # uh ... TODO figure out how to do this properly!!!\n",
    "        X_batch, y_batch = None, None\n",
    "        return X_batch, y_batch\n",
    "    \n",
    "    init = tf.global_variables_initializer()\n",
    "    \n",
    "    # in execution, feeds in the mini-batches one by one\n",
    "    with tf.Session() as sess:\n",
    "        sess.run(init)\n",
    "        \n",
    "        for epoch in range(n_epochs):\n",
    "            # also every 100 ticks, prints out the MSE\n",
    "            if epoch % 100 == 0:\n",
    "                print(\"Epoch\", epoch, \"MSE =\", mse.eval())\n",
    "                \n",
    "            for batch_index in range(n_batches):\n",
    "                X_batch, y_batch = fetch_batch(epoch, batch_index, batch_size)\n",
    "                sess.run(training_op, feed_dict = {X: X_batch, y: y_batch})\n",
    "            \n",
    "        \n",
    "        best_theta = theta.eval()\n",
    "        print(\"best theta is:\")\n",
    "        print(best_theta)\n",
    "    \n",
    "g11()"
   ]
  },
  {
   "cell_type": "markdown",
   "metadata": {},
   "source": [
    "## Saving and Restoring Models"
   ]
  },
  {
   "cell_type": "code",
   "execution_count": 23,
   "metadata": {},
   "outputs": [
    {
     "name": "stdout",
     "output_type": "stream",
     "text": [
      "Epoch 0 MSE = 5.8287187\n",
      "Epoch 100 MSE = 0.672561\n",
      "Epoch 200 MSE = 0.58933055\n",
      "Epoch 300 MSE = 0.5702154\n",
      "Epoch 400 MSE = 0.5574596\n",
      "Epoch 500 MSE = 0.5482897\n",
      "Epoch 600 MSE = 0.5416666\n",
      "Epoch 700 MSE = 0.5368799\n",
      "Epoch 800 MSE = 0.5334194\n",
      "Epoch 900 MSE = 0.53091663\n",
      "best theta is:\n",
      "[[ 2.0685523 ]\n",
      " [ 0.7733346 ]\n",
      " [ 0.13495734]\n",
      " [-0.10913765]\n",
      " [ 0.15436631]\n",
      " [ 0.00212336]\n",
      " [-0.03949714]\n",
      " [-0.8346093 ]\n",
      " [-0.7962927 ]]\n"
     ]
    }
   ],
   "source": [
    "def g12():\n",
    "    # gets the housing data\n",
    "    housing = fetch_california_housing()\n",
    "    m, n = housing.data.shape\n",
    "    \n",
    "    # scales the housing data using sklearn's StandardScaler\n",
    "    scaler = StandardScaler()\n",
    "    scaled_housing_data = scaler.fit_transform(housing.data)\n",
    "    \n",
    "    # adds the bias\n",
    "    scaled_housing_data_plus_bias = np.c_[np.ones((m, 1)), scaled_housing_data]\n",
    "    \n",
    "    n_epochs = 1000\n",
    "    learning_rate = 0.01\n",
    "    \n",
    "    X = tf.constant(scaled_housing_data_plus_bias, dtype = tf.float32, name = \"X\")\n",
    "    y = tf.constant(housing.target.reshape(-1, 1), dtype = tf.float32, name = \"y\")\n",
    "    theta = tf.Variable(tf.random_uniform([n + 1, 1], -1.0, 1.0), name = \"theta\")\n",
    "    y_pred = tf.matmul(X, theta, name = \"predictions\")\n",
    "    error = y_pred - y\n",
    "    \n",
    "    # calculates the MSE, so that we can track the error improvements every iteration of n_epochs\n",
    "    mse = tf.reduce_mean(tf.square(error), name = \"mse\")\n",
    "    \n",
    "    # replaced the separate gradients and training_op calls with the tf Gradient Descent optimizer\n",
    "    optimizer = tf.train.GradientDescentOptimizer(learning_rate = learning_rate)\n",
    "    training_op = optimizer.minimize(mse)\n",
    "    \n",
    "    init = tf.global_variables_initializer()\n",
    "    \n",
    "    # adds a saver node to the end of the construction phase\n",
    "    saver = tf.train.Saver()\n",
    "    \n",
    "    with tf.Session() as sess:\n",
    "        sess.run(init)\n",
    "        \n",
    "        # at each tick of n_epoch, runs the training_op node, which implements the Batch Gradient Descent step\n",
    "        # also every 100 epochs, saves a checkpoint\n",
    "        for epoch in range(n_epochs):\n",
    "            if epoch % 100 == 0:\n",
    "                print(\"Epoch\", epoch, \"MSE =\", mse.eval())\n",
    "                save_path = saver.save(sess, \"../../models/ch09/g12_model.ckpt\")\n",
    "            sess.run(training_op)\n",
    "    \n",
    "        best_theta = theta.eval()\n",
    "        print(\"best theta is:\")\n",
    "        print(best_theta)\n",
    "    \n",
    "g12()"
   ]
  },
  {
   "cell_type": "code",
   "execution_count": 19,
   "metadata": {},
   "outputs": [
    {
     "name": "stdout",
     "output_type": "stream",
     "text": [
      "/home/yangyq/workspaces/homl/notebooks/c09\r\n"
     ]
    }
   ],
   "source": [
    "!pwd"
   ]
  },
  {
   "cell_type": "code",
   "execution_count": 22,
   "metadata": {},
   "outputs": [],
   "source": [
    "# housing = fetch_california_housing()\n",
    "# type(housing.data)\n",
    "# x = housing.data\n",
    "# np.save(\"../../models/ch09/test.txt\", x)"
   ]
  },
  {
   "cell_type": "code",
   "execution_count": null,
   "metadata": {},
   "outputs": [],
   "source": []
  }
 ],
 "metadata": {
  "kernelspec": {
   "display_name": "Python 3",
   "language": "python",
   "name": "python3"
  },
  "language_info": {
   "codemirror_mode": {
    "name": "ipython",
    "version": 3
   },
   "file_extension": ".py",
   "mimetype": "text/x-python",
   "name": "python",
   "nbconvert_exporter": "python",
   "pygments_lexer": "ipython3",
   "version": "3.7.3"
  }
 },
 "nbformat": 4,
 "nbformat_minor": 2
}
