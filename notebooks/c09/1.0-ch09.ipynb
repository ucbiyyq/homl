{
 "cells": [
  {
   "cell_type": "markdown",
   "metadata": {},
   "source": [
    "# About\n",
    "\n",
    "Chapter 9. Up and Running with TensorFlow"
   ]
  },
  {
   "cell_type": "markdown",
   "metadata": {},
   "source": [
    "## First Graph"
   ]
  },
  {
   "cell_type": "code",
   "execution_count": 1,
   "metadata": {},
   "outputs": [],
   "source": [
    "import tensorflow as tf"
   ]
  },
  {
   "cell_type": "code",
   "execution_count": 13,
   "metadata": {},
   "outputs": [],
   "source": [
    "# resets the default graph\n",
    "tf.reset_default_graph()"
   ]
  },
  {
   "cell_type": "code",
   "execution_count": 9,
   "metadata": {},
   "outputs": [
    {
     "name": "stdout",
     "output_type": "stream",
     "text": [
      "42\n"
     ]
    }
   ],
   "source": [
    "def g01():\n",
    "    # creates the graph\n",
    "    x = tf.Variable(3, name = \"x\")\n",
    "    y = tf.Variable(4, name = \"y\")\n",
    "    f = x * x * y + y + 2\n",
    "\n",
    "    # creates session and executes graph\n",
    "    sess = tf.Session()\n",
    "    sess.run(x.initializer)\n",
    "    sess.run(y.initializer)\n",
    "    result = sess.run(f)\n",
    "    print(result)\n",
    "    sess.close()\n",
    "\n",
    "g01()"
   ]
  },
  {
   "cell_type": "code",
   "execution_count": 10,
   "metadata": {},
   "outputs": [
    {
     "name": "stdout",
     "output_type": "stream",
     "text": [
      "42\n"
     ]
    }
   ],
   "source": [
    "def g02():\n",
    "    # creates the graph\n",
    "    x = tf.Variable(3, name = \"x\")\n",
    "    y = tf.Variable(4, name = \"y\")\n",
    "    f = x * x * y + y + 2\n",
    "\n",
    "    # creates session and executes graph, using with syntax\n",
    "    with tf.Session() as sess:\n",
    "        x.initializer.run()\n",
    "        y.initializer.run()\n",
    "        result = f.eval()\n",
    "        print(result)\n",
    "    \n",
    "g02()"
   ]
  },
  {
   "cell_type": "code",
   "execution_count": 15,
   "metadata": {},
   "outputs": [
    {
     "name": "stdout",
     "output_type": "stream",
     "text": [
      "42\n"
     ]
    }
   ],
   "source": [
    "def g03():\n",
    "    # creates the graph\n",
    "    x = tf.Variable(3, name = \"x\")\n",
    "    y = tf.Variable(4, name = \"y\")\n",
    "    f = x * x * y + y + 2\n",
    "    \n",
    "    # using global initializer, instead of calling initize for each variable\n",
    "    init = tf.global_variables_initializer() # sets up an initializer node\n",
    "    with tf.Session() as sess:\n",
    "        init.run() #actually initializes all the variables\n",
    "        result = f.eval()\n",
    "        print(result)\n",
    "\n",
    "g03()"
   ]
  },
  {
   "cell_type": "markdown",
   "metadata": {},
   "source": [
    "## Managing Graphs"
   ]
  },
  {
   "cell_type": "code",
   "execution_count": 19,
   "metadata": {},
   "outputs": [
    {
     "name": "stdout",
     "output_type": "stream",
     "text": [
      "True\n"
     ]
    }
   ],
   "source": [
    "def g04():\n",
    "    # any node created is automatically added to default graph\n",
    "    x1 = tf.Variable(1)\n",
    "    t1 = x1.graph is tf.get_default_graph()\n",
    "    print(t1)\n",
    "    \n",
    "g04()"
   ]
  },
  {
   "cell_type": "code",
   "execution_count": 21,
   "metadata": {},
   "outputs": [
    {
     "name": "stdout",
     "output_type": "stream",
     "text": [
      "True\n",
      "False\n"
     ]
    }
   ],
   "source": [
    "def g05():\n",
    "    # can manage multiple independent graphs\n",
    "    graph = tf.Graph()\n",
    "    with graph.as_default():\n",
    "        x2 = tf.Variable(2)\n",
    "        \n",
    "    t1 = x2.graph is graph\n",
    "    print(t1)\n",
    "    \n",
    "    t2 = x2.graph is tf.get_default_graph()\n",
    "    print(t2)\n",
    "    \n",
    "g05()"
   ]
  },
  {
   "cell_type": "markdown",
   "metadata": {},
   "source": [
    "## Lifecycle of a Node Value"
   ]
  },
  {
   "cell_type": "code",
   "execution_count": 22,
   "metadata": {},
   "outputs": [
    {
     "name": "stdout",
     "output_type": "stream",
     "text": [
      "10\n",
      "15\n"
     ]
    }
   ],
   "source": [
    "def g06():\n",
    "    w = tf.constant(3)\n",
    "    x = w + 2\n",
    "    y = x + 5\n",
    "    z = x * 3\n",
    "    \n",
    "    # this code calculates x twice\n",
    "    with tf.Session() as sess:\n",
    "        print(y.eval())\n",
    "        print(z.eval())\n",
    "    \n",
    "g06()"
   ]
  },
  {
   "cell_type": "code",
   "execution_count": 23,
   "metadata": {},
   "outputs": [
    {
     "name": "stdout",
     "output_type": "stream",
     "text": [
      "10\n",
      "15\n"
     ]
    }
   ],
   "source": [
    "def g07():\n",
    "    w = tf.constant(3)\n",
    "    x = w + 2\n",
    "    y = x + 5\n",
    "    z = x * 3\n",
    "    \n",
    "    # this code calculates x once\n",
    "    with tf.Session() as sess:\n",
    "        y_val, z_val = sess.run([y, z])\n",
    "        print(y.eval())\n",
    "        print(z.eval())\n",
    "    \n",
    "g07()"
   ]
  },
  {
   "cell_type": "markdown",
   "metadata": {},
   "source": [
    "## Linear Regression with TensorFlow"
   ]
  },
  {
   "cell_type": "code",
   "execution_count": 25,
   "metadata": {},
   "outputs": [],
   "source": [
    "import numpy as np\n",
    "from sklearn.datasets import fetch_california_housing"
   ]
  },
  {
   "cell_type": "code",
   "execution_count": 41,
   "metadata": {},
   "outputs": [
    {
     "name": "stdout",
     "output_type": "stream",
     "text": [
      "========\n",
      "(20640, 8) 20640 8\n",
      "[[ 8.32520000e+00  4.10000000e+01  6.98412698e+00  1.02380952e+00\n",
      "   3.22000000e+02  2.55555556e+00  3.78800000e+01 -1.22230000e+02]\n",
      " [ 8.30140000e+00  2.10000000e+01  6.23813708e+00  9.71880492e-01\n",
      "   2.40100000e+03  2.10984183e+00  3.78600000e+01 -1.22220000e+02]\n",
      " [ 7.25740000e+00  5.20000000e+01  8.28813559e+00  1.07344633e+00\n",
      "   4.96000000e+02  2.80225989e+00  3.78500000e+01 -1.22240000e+02]\n",
      " [ 5.64310000e+00  5.20000000e+01  5.81735160e+00  1.07305936e+00\n",
      "   5.58000000e+02  2.54794521e+00  3.78500000e+01 -1.22250000e+02]\n",
      " [ 3.84620000e+00  5.20000000e+01  6.28185328e+00  1.08108108e+00\n",
      "   5.65000000e+02  2.18146718e+00  3.78500000e+01 -1.22250000e+02]]\n",
      "========\n",
      "(20640, 9)\n",
      "[[ 1.00000000e+00  8.32520000e+00  4.10000000e+01  6.98412698e+00\n",
      "   1.02380952e+00  3.22000000e+02  2.55555556e+00  3.78800000e+01\n",
      "  -1.22230000e+02]\n",
      " [ 1.00000000e+00  8.30140000e+00  2.10000000e+01  6.23813708e+00\n",
      "   9.71880492e-01  2.40100000e+03  2.10984183e+00  3.78600000e+01\n",
      "  -1.22220000e+02]\n",
      " [ 1.00000000e+00  7.25740000e+00  5.20000000e+01  8.28813559e+00\n",
      "   1.07344633e+00  4.96000000e+02  2.80225989e+00  3.78500000e+01\n",
      "  -1.22240000e+02]\n",
      " [ 1.00000000e+00  5.64310000e+00  5.20000000e+01  5.81735160e+00\n",
      "   1.07305936e+00  5.58000000e+02  2.54794521e+00  3.78500000e+01\n",
      "  -1.22250000e+02]\n",
      " [ 1.00000000e+00  3.84620000e+00  5.20000000e+01  6.28185328e+00\n",
      "   1.08108108e+00  5.65000000e+02  2.18146718e+00  3.78500000e+01\n",
      "  -1.22250000e+02]]\n",
      "========\n",
      "(20640,)\n",
      "[4.526 3.585 3.521 3.413 3.422 2.697 2.992 2.414 2.267 2.611]\n",
      "(20640, 1)\n",
      "[[4.526]\n",
      " [3.585]\n",
      " [3.521]\n",
      " [3.413]\n",
      " [3.422]\n",
      " [2.697]\n",
      " [2.992]\n",
      " [2.414]\n",
      " [2.267]\n",
      " [2.611]]\n",
      "========\n",
      "(20640, 9)\n",
      "Tensor(\"strided_slice_8:0\", shape=(3, 9), dtype=float32)\n",
      "(9, 20640)\n",
      "Tensor(\"strided_slice_9:0\", shape=(3, 20640), dtype=float32)\n",
      "========\n",
      "theta_value\n",
      "[[-3.7185181e+01]\n",
      " [ 4.3633747e-01]\n",
      " [ 9.3952334e-03]\n",
      " [-1.0711310e-01]\n",
      " [ 6.4479220e-01]\n",
      " [-4.0338000e-06]\n",
      " [-3.7813708e-03]\n",
      " [-4.2348403e-01]\n",
      " [-4.3721911e-01]]\n"
     ]
    }
   ],
   "source": [
    "def g08():\n",
    "    print(\"========\")\n",
    "    housing = fetch_california_housing()\n",
    "    m, n = housing.data.shape\n",
    "    print(housing.data.shape, m, n)\n",
    "    print(housing.data[0:5])\n",
    "    \n",
    "    print(\"========\")\n",
    "    housing_data_plus_bias = np.c_[np.ones((m, 1)), housing.data]\n",
    "    print(housing_data_plus_bias.shape)\n",
    "    print(housing_data_plus_bias[0:5])\n",
    "    \n",
    "    print(\"========\")\n",
    "    X = tf.constant(housing_data_plus_bias, dtype = tf.float32, name = \"X\")\n",
    "    y = tf.constant(housing.target.reshape(-1, 1), dtype = tf.float32, name = \"y\")\n",
    "    print(housing.target.shape)\n",
    "    print(housing.target[0:10])\n",
    "    print(housing.target.reshape(-1, 1).shape)\n",
    "    print(housing.target.reshape(-1, 1)[0:10])\n",
    "    \n",
    "    print(\"========\")\n",
    "    XT = tf.transpose(X)\n",
    "    print(X.shape)\n",
    "    print(X[0:3])\n",
    "    print(XT.shape)\n",
    "    print(XT[0:3])\n",
    "    \n",
    "    print(\"========\")\n",
    "    theta = tf.matmul(\n",
    "        tf.matmul(\n",
    "            tf.matrix_inverse(\n",
    "                tf.matmul(\n",
    "                    XT\n",
    "                    , X\n",
    "                )\n",
    "            )\n",
    "            , XT\n",
    "        )\n",
    "        , y\n",
    "    )\n",
    "    \n",
    "    with tf.Session() as sess:\n",
    "        theta_value = theta.eval()\n",
    "    \n",
    "    print(\"theta_value\")\n",
    "    print(theta_value)\n",
    "\n",
    "g08()"
   ]
  },
  {
   "cell_type": "code",
   "execution_count": 50,
   "metadata": {},
   "outputs": [
    {
     "name": "stdout",
     "output_type": "stream",
     "text": [
      "========\n",
      "========\n",
      "========\n",
      "========\n",
      "========\n",
      "[[ 0.00000000e+00  4.36693293e-01  9.43577803e-03 -1.07322041e-01\n",
      "   6.45065694e-01 -3.97638942e-06 -3.78654265e-03 -4.21314378e-01\n",
      "  -4.34513755e-01]]\n"
     ]
    }
   ],
   "source": [
    "from sklearn.linear_model import LinearRegression\n",
    "def g08b():\n",
    "    print(\"========\")\n",
    "    housing = fetch_california_housing()\n",
    "    m, n = housing.data.shape\n",
    "    \n",
    "    print(\"========\")\n",
    "    housing_data_plus_bias = np.c_[np.ones((m, 1)), housing.data]\n",
    "    \n",
    "    print(\"========\")\n",
    "    X = housing_data_plus_bias\n",
    "    y = housing.target.reshape(-1, 1)\n",
    "    \n",
    "    print(\"========\")\n",
    "    reg = LinearRegression().fit(X, y)\n",
    "    \n",
    "    print(\"========\")\n",
    "    theta_values = reg.coef_\n",
    "    print(theta_values)\n",
    "    \n",
    "g08b()"
   ]
  }
 ],
 "metadata": {
  "kernelspec": {
   "display_name": "Python 3",
   "language": "python",
   "name": "python3"
  },
  "language_info": {
   "codemirror_mode": {
    "name": "ipython",
    "version": 3
   },
   "file_extension": ".py",
   "mimetype": "text/x-python",
   "name": "python",
   "nbconvert_exporter": "python",
   "pygments_lexer": "ipython3",
   "version": "3.7.3"
  }
 },
 "nbformat": 4,
 "nbformat_minor": 2
}
